{
  "cells": [
    {
      "cell_type": "markdown",
      "metadata": {},
      "source": [
        "---\n",
        "title: \"Neil Lawrence\"\n",
        "---\n",
        "\n",
        "\n",
        "\n",
        "\n",
        "Website development - this is a sandbox\n",
        "\n",
        "This is working now - this bit won't update until I recommit, but the google sheet does\n",
        "\n",
        "\n",
        "\n",
        "\n",
        "\n",
        "\n",
        "```{html, echo=FALSE}\n",
        "<div id=\"sheet-data\"></div>\n",
        "  \n",
        "<script>\n",
        "    async function fetchSheetData() {\n",
        "        const url = 'https://docs.google.com/spreadsheets/d/e/2PACX-1vSMongDgzsyxPpmkcU2OrGn2ktM07LqK9qqSWct6rwIOxLKr_5AQ9_jwzBNIapiXdVdtTSqb3q3bcE2/pub?output=csv'; \n",
        "        \n",
        "        const response = await fetch(url);\n",
        "        const data = await response.text();\n",
        "        const rows = data.split('\\n');\n",
        "        let html = '<ul>';\n",
        "\n",
        "        rows.forEach((row, index) => {\n",
        "            // Include only rows 3, 4, and 5 (indices 0, 2, and 4)\n",
        "            if (index === 2) {\n",
        "                const cells = row.split(',');\n",
        "                html += '<li>' + cells[0] + '</li'; // Modify this to reference specific cells\n",
        "            }\n",
        "            if (index === 3) {\n",
        "                const cells = row.split(',');\n",
        "                html += '<li>' + <br> + cells[0] + '</li'; // Modify this to reference specific cells\n",
        "            }\n",
        "        });\n",
        "        html += '</ul>';\n",
        "        document.getElementById('sheet-data').innerHTML = html;\n",
        "    }\n",
        "\n",
        "    fetchSheetData();\n",
        "</script>\n",
        "\n",
        "```"
      ],
      "id": "4b700292"
    }
  ],
  "metadata": {
    "kernelspec": {
      "display_name": "Python 3",
      "language": "python",
      "name": "python3"
    }
  },
  "nbformat": 4,
  "nbformat_minor": 5
}